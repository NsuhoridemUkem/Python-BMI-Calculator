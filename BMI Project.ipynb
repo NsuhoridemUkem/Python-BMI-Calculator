{
 "cells": [
  {
   "cell_type": "markdown",
   "id": "b6097978-dcc0-4583-aaae-0559ac7ccb4d",
   "metadata": {},
   "source": [
    "# BMI Calculator"
   ]
  },
  {
   "cell_type": "code",
   "execution_count": 11,
   "id": "9adf4402-b403-4333-9d6d-f7948f6d506d",
   "metadata": {},
   "outputs": [],
   "source": [
    "# Building a Body Mass Index (BMI) \n",
    "# BMI = (weight in pounds x 703) / (height in inches x height in inches)\n",
    "# Using the key-input()"
   ]
  },
  {
   "cell_type": "code",
   "execution_count": 29,
   "id": "3c301c02-2001-41a7-807e-1b1ce32b2bef",
   "metadata": {},
   "outputs": [
    {
     "name": "stdin",
     "output_type": "stream",
     "text": [
      "Enter your name: Bassey\n",
      "Enter your weight in pounds: 150\n",
      "Enter your height in inches: 71\n"
     ]
    },
    {
     "name": "stdout",
     "output_type": "stream",
     "text": [
      "Your BMI is: 20.91846855782583\n",
      "Bassey, you are normal weight. You're in shape!\n"
     ]
    }
   ],
   "source": [
    "Name = input('Enter your name:')\n",
    "\n",
    "Weight = int(input('Enter your weight in pounds:'))\n",
    "\n",
    "Height = int(input('Enter your height in inches:'))\n",
    "\n",
    "BMI = (Weight * 703) / (Height * Height)\n",
    "\n",
    "print(\"Your BMI is:\", (BMI))\n",
    "\n",
    "if BMI>0:\n",
    "    if (BMI < 18.5):\n",
    "        print(Name + ', you are underweight. You need to diet properly.')\n",
    "    elif (BMI <= 24.9):\n",
    "        print(Name + \", you are normal weight. You're in shape!\")\n",
    "    elif (BMI <= 29.9):\n",
    "        print(Name + ', you are overweight. You need to workout more often.')\n",
    "    elif (BMI <= 34.9):\n",
    "        print(Name + ', you are obese. Cut down on your food intake and workout very often.')\n",
    "    elif (BMI <= 39.9):\n",
    "        print(Name + ', you are severely obese. Stop eating junk food, cutdown on diet, and workout daily.')\n",
    "    elif (BMI >= 40):\n",
    "        print(Name + ', you are morbidly obese. See a doctor urgently for medical advice!')\n",
    "else:\n",
    "    print('Enter valid input')"
   ]
  },
  {
   "cell_type": "code",
   "execution_count": null,
   "id": "8024913c-def5-417f-a7b2-3513b1f61972",
   "metadata": {},
   "outputs": [],
   "source": []
  },
  {
   "cell_type": "code",
   "execution_count": null,
   "id": "f7c81ff0-fbbb-4f72-a58c-fe34ae1dab2d",
   "metadata": {},
   "outputs": [],
   "source": []
  },
  {
   "cell_type": "code",
   "execution_count": null,
   "id": "fcdc732c-5acc-4e72-833f-6067e66f903d",
   "metadata": {},
   "outputs": [],
   "source": []
  },
  {
   "cell_type": "code",
   "execution_count": null,
   "id": "28e7a90c-8392-4a20-babd-1551e011dcb0",
   "metadata": {},
   "outputs": [],
   "source": []
  },
  {
   "cell_type": "code",
   "execution_count": null,
   "id": "449ed79e-e648-47b4-b436-1a14736a162b",
   "metadata": {},
   "outputs": [],
   "source": []
  },
  {
   "cell_type": "code",
   "execution_count": null,
   "id": "8272e247-62f0-4125-b91b-5a31aceedfe4",
   "metadata": {},
   "outputs": [],
   "source": []
  },
  {
   "cell_type": "code",
   "execution_count": null,
   "id": "9d49bc7d-df00-43fd-a58a-eea6c77f3ee1",
   "metadata": {},
   "outputs": [],
   "source": []
  },
  {
   "cell_type": "code",
   "execution_count": null,
   "id": "55b1e561-3c05-49a6-a52c-4052f88c7a18",
   "metadata": {},
   "outputs": [],
   "source": []
  },
  {
   "cell_type": "code",
   "execution_count": null,
   "id": "4a2a936c-b0fe-4376-aeb6-89e91eea40ef",
   "metadata": {},
   "outputs": [],
   "source": []
  },
  {
   "cell_type": "code",
   "execution_count": null,
   "id": "3138dbdb-2e2a-4da6-8aff-f7b7977f157c",
   "metadata": {},
   "outputs": [],
   "source": []
  },
  {
   "cell_type": "code",
   "execution_count": null,
   "id": "662921c0-8aa8-483f-a350-aed9d66d4516",
   "metadata": {},
   "outputs": [],
   "source": []
  },
  {
   "cell_type": "code",
   "execution_count": null,
   "id": "7ab76a3b-05c5-4ac7-b483-02ae75d0f67f",
   "metadata": {},
   "outputs": [],
   "source": []
  },
  {
   "cell_type": "code",
   "execution_count": null,
   "id": "edb8035e-82b7-4981-9ffb-c3c616be262a",
   "metadata": {},
   "outputs": [],
   "source": []
  },
  {
   "cell_type": "code",
   "execution_count": null,
   "id": "05cd73dc-4b36-4b81-9653-f88a9aa99634",
   "metadata": {},
   "outputs": [],
   "source": []
  },
  {
   "cell_type": "code",
   "execution_count": null,
   "id": "43011737-eeca-427c-84b6-c5a158c66f15",
   "metadata": {},
   "outputs": [],
   "source": []
  },
  {
   "cell_type": "code",
   "execution_count": null,
   "id": "ab005eee-87b9-4f5c-9271-2bce4d29ed73",
   "metadata": {},
   "outputs": [],
   "source": []
  },
  {
   "cell_type": "code",
   "execution_count": null,
   "id": "b344f352-c68c-4b9d-b4e0-513be165229b",
   "metadata": {},
   "outputs": [],
   "source": []
  },
  {
   "cell_type": "code",
   "execution_count": null,
   "id": "f18872a4-0bdc-4b12-a3b6-67aefa88e095",
   "metadata": {},
   "outputs": [],
   "source": []
  },
  {
   "cell_type": "code",
   "execution_count": null,
   "id": "cd576909-21fc-4874-b2af-43a8848b6109",
   "metadata": {},
   "outputs": [],
   "source": []
  },
  {
   "cell_type": "code",
   "execution_count": null,
   "id": "14e54e23-1479-40f9-89ab-3c69e5cd3544",
   "metadata": {},
   "outputs": [],
   "source": []
  },
  {
   "cell_type": "code",
   "execution_count": null,
   "id": "63a00df3-9f66-4731-8183-858d7993e076",
   "metadata": {},
   "outputs": [],
   "source": []
  },
  {
   "cell_type": "code",
   "execution_count": null,
   "id": "c0c99727-5d44-44cb-83fe-eeb186a3e501",
   "metadata": {},
   "outputs": [],
   "source": []
  },
  {
   "cell_type": "code",
   "execution_count": null,
   "id": "a9f0de13-a50a-4471-84ba-1f293890ac98",
   "metadata": {},
   "outputs": [],
   "source": []
  },
  {
   "cell_type": "code",
   "execution_count": null,
   "id": "ebbd9695-e7b0-4b12-86e6-146abd5735d4",
   "metadata": {},
   "outputs": [],
   "source": []
  },
  {
   "cell_type": "code",
   "execution_count": null,
   "id": "4cc58225-a714-4594-9636-7ecb14b7c205",
   "metadata": {},
   "outputs": [],
   "source": []
  },
  {
   "cell_type": "code",
   "execution_count": null,
   "id": "0eaf5a3c-25a4-4b70-9df2-46253372ebbb",
   "metadata": {},
   "outputs": [],
   "source": []
  },
  {
   "cell_type": "code",
   "execution_count": null,
   "id": "f296486e-21cf-463d-98cb-d4a3e090176e",
   "metadata": {},
   "outputs": [],
   "source": []
  },
  {
   "cell_type": "code",
   "execution_count": null,
   "id": "06d5c45c-45ef-44f9-950c-a6fc26900f22",
   "metadata": {},
   "outputs": [],
   "source": []
  },
  {
   "cell_type": "code",
   "execution_count": null,
   "id": "21abfc4a-7f88-4a23-8c95-43b6153b4a55",
   "metadata": {},
   "outputs": [],
   "source": []
  },
  {
   "cell_type": "code",
   "execution_count": null,
   "id": "2d590ffb-d19d-48b8-bd19-a9516350f4e2",
   "metadata": {},
   "outputs": [],
   "source": []
  },
  {
   "cell_type": "code",
   "execution_count": null,
   "id": "8c387827-3b03-40f3-8388-184c3509af13",
   "metadata": {},
   "outputs": [],
   "source": []
  },
  {
   "cell_type": "code",
   "execution_count": null,
   "id": "8192086b-8940-4c03-afdc-1fe09487b415",
   "metadata": {},
   "outputs": [],
   "source": []
  },
  {
   "cell_type": "code",
   "execution_count": null,
   "id": "9c2de1ca-9d08-41be-8752-6fd5f4980180",
   "metadata": {},
   "outputs": [],
   "source": []
  },
  {
   "cell_type": "code",
   "execution_count": null,
   "id": "b94537d6-b8a6-4def-b2cf-10129a4d9917",
   "metadata": {},
   "outputs": [],
   "source": []
  },
  {
   "cell_type": "code",
   "execution_count": null,
   "id": "3ba08bc8-be60-4c63-8437-048a90b0bee6",
   "metadata": {},
   "outputs": [],
   "source": []
  },
  {
   "cell_type": "code",
   "execution_count": null,
   "id": "e16a896e-ca36-4024-9955-04a151f58fb6",
   "metadata": {},
   "outputs": [],
   "source": []
  },
  {
   "cell_type": "code",
   "execution_count": null,
   "id": "c724d24c-05de-4e75-91f3-0ac9bab0f4e4",
   "metadata": {},
   "outputs": [],
   "source": []
  },
  {
   "cell_type": "code",
   "execution_count": null,
   "id": "9a3a10b0-d76f-4029-8185-263a9aa96afe",
   "metadata": {},
   "outputs": [],
   "source": []
  },
  {
   "cell_type": "code",
   "execution_count": null,
   "id": "e2f1ae29-3b0b-4fb9-ade5-55b1b2e56170",
   "metadata": {},
   "outputs": [],
   "source": []
  },
  {
   "cell_type": "code",
   "execution_count": null,
   "id": "cd55daa2-27e4-41eb-9f82-5b723353284a",
   "metadata": {},
   "outputs": [],
   "source": []
  },
  {
   "cell_type": "code",
   "execution_count": null,
   "id": "d4e499d1-da0d-453f-b82e-fe5ee3fe58f4",
   "metadata": {},
   "outputs": [],
   "source": []
  },
  {
   "cell_type": "code",
   "execution_count": null,
   "id": "9dbb5c19-0c6f-42a5-9418-577c9728e3ed",
   "metadata": {},
   "outputs": [],
   "source": []
  },
  {
   "cell_type": "code",
   "execution_count": null,
   "id": "bcf6a55f-30ba-453c-8516-3e595530748b",
   "metadata": {},
   "outputs": [],
   "source": []
  },
  {
   "cell_type": "code",
   "execution_count": null,
   "id": "ba82e059-0306-4764-81c4-80f712478281",
   "metadata": {},
   "outputs": [],
   "source": []
  },
  {
   "cell_type": "code",
   "execution_count": null,
   "id": "f42efcea-8266-46b2-90f5-acf4a3088728",
   "metadata": {},
   "outputs": [],
   "source": []
  },
  {
   "cell_type": "code",
   "execution_count": null,
   "id": "806ad116-36f8-4d02-a18b-61c3c39847a1",
   "metadata": {},
   "outputs": [],
   "source": []
  }
 ],
 "metadata": {
  "kernelspec": {
   "display_name": "anaconda-2024.02-py310",
   "language": "python",
   "name": "conda-env-anaconda-2024.02-py310-py"
  },
  "language_info": {
   "codemirror_mode": {
    "name": "ipython",
    "version": 3
   },
   "file_extension": ".py",
   "mimetype": "text/x-python",
   "name": "python",
   "nbconvert_exporter": "python",
   "pygments_lexer": "ipython3",
   "version": "3.10.14"
  }
 },
 "nbformat": 4,
 "nbformat_minor": 5
}
